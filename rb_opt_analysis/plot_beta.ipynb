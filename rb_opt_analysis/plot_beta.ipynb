{
 "cells": [
  {
   "cell_type": "markdown",
   "metadata": {},
   "source": [
    "# Fidelity plot"
   ]
  },
  {
   "cell_type": "code",
   "execution_count": 1,
   "metadata": {},
   "outputs": [],
   "source": [
    "import numpy as np\n",
    "import matplotlib.pyplot as plt\n",
    "import os\n",
    "import json\n",
    "import pathlib\n",
    "import plotly.graph_objects as go"
   ]
  },
  {
   "cell_type": "code",
   "execution_count": 7,
   "metadata": {},
   "outputs": [],
   "source": [
    "WIDTH  = 0.5\n",
    "FONT = 24\n",
    "\n",
    "BLUE = \"#788ae3\"\n",
    "RED = \"#d1545e\"\n",
    "DARKBLUE = \"#075cb3\"\n",
    "DARKRED = \"#8c1822\""
   ]
  },
  {
   "cell_type": "code",
   "execution_count": 8,
   "metadata": {},
   "outputs": [],
   "source": [
    "\"\"\"UNZIP ROUTINE\"\"\"\n",
    "\n",
    "def unzip_data_npz(root_dir):\n",
    "    for dirpath, dirnames, filenames in os.walk(root_dir):\n",
    "        if 'data.npz' in filenames:\n",
    "            npz_path = os.path.join(dirpath, 'data.npz')\n",
    "            data_dir = os.path.join(dirpath, 'data')\n",
    "            \n",
    "            if not os.path.exists(data_dir):\n",
    "                #print(f\"Unzipping {npz_path}\")\n",
    "                try:\n",
    "                    with np.load(npz_path, allow_pickle=True) as data:\n",
    "                        os.makedirs(data_dir, exist_ok=True)\n",
    "                        for key, value in data.items():\n",
    "                            np.save(os.path.join(data_dir, f\"{key}.npy\"), value)\n",
    "                    #print(f\"Successfully unzipped {npz_path}\")\n",
    "                except Exception as e:\n",
    "                    print(f\"Error unzipping {npz_path}: {str(e)}\")\n",
    "\n",
    "root_directory = os.path.join(os.getcwd(), 'rb_opt')\n",
    "unzip_data_npz(root_directory)"
   ]
  },
  {
   "cell_type": "code",
   "execution_count": 9,
   "metadata": {},
   "outputs": [
    {
     "name": "stdout",
     "output_type": "stream",
     "text": [
      "301\n"
     ]
    }
   ],
   "source": [
    "path = '/home/elisa/Desktop/Qibo/Qibocal/optimization/rb_opt/data/'\n",
    "\n",
    "rb_paths = [item for item in os.listdir(path) if item.startswith('rb_ondevice') \n",
    "            and os.path.isdir(os.path.join(path, item))]\n",
    "sorted_rb_items = sorted(rb_paths, key=lambda x: int(x.split('-')[1]))\n",
    "print(len(sorted_rb_items))\n",
    "\n",
    "all_decay_params, all_decay_errs = [], []\n",
    "for rbpath in sorted_rb_items:\n",
    "    with open(f\"{path}{rbpath}/results.json\") as f:\n",
    "        data_dict = json.load(f)\n",
    "    popt = data_dict['\"pars\"']['\"D1\"']\n",
    "    pcov = np.array(data_dict['\"cov\"']['\"D1\"']).reshape(3,3)\n",
    "    perr = np.sqrt(np.diag(pcov))\n",
    "    all_decay_params.append(popt[2])\n",
    "    all_decay_errs.append(perr[2])\n",
    "\n",
    "all_decay_params, all_decay_errs = np.array(all_decay_params), np.array(all_decay_errs)"
   ]
  },
  {
   "cell_type": "code",
   "execution_count": 10,
   "metadata": {},
   "outputs": [],
   "source": [
    "infidelity = (1 - all_decay_params) / 2\n",
    "pulse_fidelities = 1 - infidelity / 1.875\n",
    "\n",
    "pulse_fidelities_err = all_decay_errs / (1.875 * 2)"
   ]
  },
  {
   "cell_type": "code",
   "execution_count": 11,
   "metadata": {},
   "outputs": [
    {
     "data": {
      "image/png": "[encoded data removed]",
      "text/plain": [
       "<Figure size 500x375 with 1 Axes>"
      ]
     },
     "metadata": {},
     "output_type": "display_data"
    }
   ],
   "source": [
    "x = np.arange(1, len(pulse_fidelities) + 1)\n",
    "\n",
    "fig, ax1 = plt.subplots(1, figsize=(WIDTH * 10 , WIDTH * 10 * 6/8))\n",
    "ax1.errorbar(x, pulse_fidelities, yerr = pulse_fidelities_err, fmt='o',linestyle='none', markersize=4, color=\"black\", markerfacecolor=RED, ecolor=\"black\", markeredgewidth=0.7, elinewidth=0.7, alpha=1, label=r\"qubit 1\", capsize=3)\n",
    "ax1.plot(x, pulse_fidelities, '-', color='black', linewidth=0.7)\n",
    "ax1.set_xlabel('# optimization steps',  fontsize=12)\n",
    "#ax1.set_ylabel(r'$\\pi/2$ fidelity',  fontsize=12)\n",
    "plt.savefig(f'plot', bbox_inches=\"tight\", dpi=600)"
   ]
  },
  {
   "cell_type": "code",
   "execution_count": 17,
   "metadata": {},
   "outputs": [
    {
     "data": {
      "application/vnd.plotly.v1+json": {
       "config": {
        "plotlyServerURL": "https://plot.ly"
       },
       "data": [
        {
         "error_y": {
          "array": [
           0.0011608609783258516,
           0.0017695159681308083,
           5162.30191841326,
           0.0011868266469345727,
           0.08543690115872991,
           0.49926329899868854,
           0.001152933321728041,
           0.0013818966097364253,
           0.004590743259921688,
           0.0011319317848764968,
           349.7021980343073,
           0.0002181703314123991,
           0.00022886724199352982,
           0.00014099869251030407,
           0.0002454161513616822,
           0.00012759552425703412,
           0.00030002895631221234,
           0.00012177459195248329,
           0.002804633849252344,
           0.00020346768909499378,
           0.00012935686079448367,
           0.00038443706325500167,
           0.0001609156357632171,
           0.00014247064181938443,
           0.0002742513848371806,
           0.0001572636540601439,
           0.00014147519860101764,
           0.0002996322995359292,
           0.0001255667455299911,
           0.00012121327950272476,
           0.000206608420762851,
           0.00013019634147571648,
           0.00013171870408521595,
           0.00015931088350202479,
           0.00014684806477922123,
           0.0001336375392036541,
           0.0001355104922820121,
           0.0001582018503747459,
           0.00011785169270310867,
           0.00012365839837804625,
           0.00012210265976903516,
           0.00013158222641852842,
           0.00017569106735824586,
           0.00011112757203198863,
           0.0001313349939340413,
           0.00014353370229255497,
           0.00011563304930488894,
           0.0001274352214104336,
           0.00013754591896940137,
           0.00012570229980935114,
           0.00013157603744296065,
           0.0001403133017336477,
           0.00012888917208951628,
           0.00012868466078025972,
           0.00012233534436637233,
           0.0001280472533790193,
           0.0001118336420528811,
           0.00010847554891135296,
           0.00013110844512436915,
           0.00013701181959698485,
           0.0001311420953032936,
           0.00011716298430033072,
           0.0001286553554313482,
           0.00013453790409341916,
           0.0001350070570220642,
           0.00013724667870347476,
           0.0001233955198502732,
           0.0001282559203654873,
           0.00012827933424436523,
           0.00012419578962473253,
           0.00013658031065417534,
           0.00012750521645189228,
           0.00011915900781519137,
           0.000145772661036179,
           0.0001292679103942366,
           0.00013156073329512207,
           0.00012829346492621347,
           0.00011547102309602355,
           0.00012549416124579702,
           0.00012369504367859874,
           0.00012491436873189675,
           0.000129917250695321,
           0.00012370221637037697,
           0.00011134202222241051,
           0.0001243803813111399,
           0.00014180080501072692,
           0.00013154545727564254,
           0.00011380811817258209,
           0.00013000320156663421,
           0.00012834293022734563,
           0.00013011260631422955,
           0.00013023861858074568,
           0.00012494293406687738,
           0.00011914725235785228,
           0.00011436763861355358,
           0.00012858644121154097,
           0.00014138969012178864,
           0.00012672390741486127,
           0.0001335830336666996,
           0.00012375577123238598,
           0.00013274051529392445,
           0.00011798669347833493,
           0.00012692753530762048,
           0.000131995252330989,
           0.00014621131968188417,
           0.00013821359849413564,
           0.00013631596869392382,
           0.00012931578817807187,
           0.00013254875392864506,
           0.00012604515746194743,
           0.00013771837484351156,
           0.0001365192360971903,
           0.0001408344107209383,
           0.00013108442934756803,
           0.00012648342509769786,
           0.00012728458033714387,
           0.00013248875786849536,
           0.0001400171704539918,
           0.0001465266584615897,
           0.00015645133008123678,
           0.00013195768420753303,
           0.00012561442394102572,
           0.00013677416580191713,
           0.00011885721145846692,
           0.00011542792327670569,
           0.00014363897450443637,
           0.00012440804801795022,
           0.00014044477865927187,
           0.00014125506971104267,
           0.000112749242680432,
           0.00014205995164243786,
           0.00014610477706139237,
           0.0001367061491070055,
           0.00012147803451585364,
           0.00015880517196036466,
           0.00013170791665893564,
           0.00012235265520665976,
           0.0001359846179953446,
           0.00013263080633694313,
           0.0001364482769469289,
           0.0001495580993900063,
           0.00015117987770502027,
           0.00013462275490233922,
           0.000138759575486729,
           0.00012573114583134225,
           0.00013785982355040202,
           0.00013955264713040447,
           0.0001353826539090339,
           0.00011432813450709988,
           0.0001432202004671929,
           0.0001298612227535242,
           0.00014086134140392848,
           0.00013839758745303764,
           0.00011997038969783343,
           0.000146309867170871,
           0.00013543852457622844,
           0.00014103069600697997,
           0.0001289505251844228,
           0.0001453145917686172,
           0.00015074940816356053,
           0.00014955489844487713,
           0.00013235102058792983,
           0.00013346353867701207,
           0.00014956721188747295,
           0.0001366503035758423,
           0.00014472006014486086,
           0.00012102251604272566,
           0.00012825010179330526,
           0.0001167889341680454,
           0.00013262109279429536,
           0.0001644457190044984,
           0.0001498230354918075,
           0.0001367242782752642,
           0.00013955118421963775,
           0.00015539393200605527,
           0.0001443923090443257,
           0.00012745633812417815,
           0.00012949411037264515,
           0.0001347736743888347,
           0.00014387372772546733,
           0.0001323429270220333,
           0.00014709573848743906,
           0.00014736884177016336,
           0.00014990314500189675,
           0.00014875514024169828,
           0.00014576595128716066,
           0.0001366812507257582,
           0.00014863231809569813,
           0.00013687625072211583,
           0.00013477793786895891,
           0.00014388692868343047,
           0.00014023152158192163,
           0.00014656676945809264,
           0.0001423889106260755,
           0.00014034037632430722,
           0.00015902716831098376,
           0.00015199483406145057,
           0.0001472689268515566,
           0.00014546784987001319,
           0.00014844300018204524,
           0.00013596967093966922,
           0.00013241659366369283,
           0.00014617879876113304,
           0.00014083430844219518,
           0.00013867331413314538,
           0.0001417405303116931,
           0.00013591022452106398,
           0.000140198002325404,
           0.00013995115783519525,
           0.00015272843811313798,
           0.00015388189412305698,
           0.00013146164754300295,
           0.00014670896604249343,
           0.00012580503220508505,
           0.00015215740967964585,
           0.0001400088203663551,
           0.00014590253626454915,
           0.00015394956899518272,
           0.00014099712754648652,
           0.00013100343972000057,
           0.00013167374265770897,
           0.00016182509180354265,
           0.00013031634112827076,
           0.00014293931659518138,
           0.00012095543622485028,
           0.0001391910025320258,
           0.00013876764779661898,
           0.00015209825449017905,
           0.00012772073821662878,
           0.000122683982088109,
           0.00012159589011827614,
           0.00012751467940809422,
           0.00015785538173309968,
           0.00014896280313899272,
           0.0001527424781812598,
           0.00013717972955443422,
           0.00013017102200146843,
           0.00012793307603088793,
           0.00013926568750239701,
           0.00013768105173088987,
           0.00013431713342370764,
           0.0001432929474220064,
           0.00013952064084503718,
           0.00013788907352354953,
           0.0001489009004938042,
           0.00014328639053837433,
           0.00014374206354055523,
           0.00014270547846316337,
           0.0001228168614461522,
           0.00012569722036885568,
           0.0001385683779556386,
           0.0001385137719129167,
           0.00013836456752729594,
           0.00014533321343375725,
           0.00014938992286532847,
           0.0001347639810647983,
           0.00013451415102547099,
           0.0001462287370654812,
           0.00014374109320792919,
           0.000145553368349057,
           0.00012691330308150787,
           0.0001469912587638597,
           0.00014856860593007718,
           0.0001317468292153995,
           0.00012794747715727417,
           0.0001388706162158362,
           0.00014085021308936173,
           0.00013968180183071633,
           0.00013471275592163613,
           0.00014624989334228764,
           0.00012932263807930399,
           0.0001461178516795579,
           0.00014394620177253837,
           0.0001374367718416518,
           0.00012749932153088698,
           0.0001362824375319798,
           0.0001369890260953926,
           0.00013843909954003972,
           0.00013463316047709366,
           0.00013103712481276228,
           0.0001512436454791777,
           0.00011321107515979883,
           0.00014773307603973816,
           0.00015452026031742322,
           0.00013824004997156603,
           0.00014198659099980864,
           0.00015977512633549043,
           0.000142253271816457,
           0.00013720033767946078,
           0.0001348252368549005,
           0.00013547103862326194,
           0.00013093388134629332,
           0.00015719446099855063,
           0.00012784891927309576,
           0.00016229814103815114,
           0.00014979920649827773,
           0.00014285567420096703,
           0.0001497285857779263,
           0.00015062939614174446,
           0.00015175592432247205,
           0.0001297278675237353
          ],
          "type": "data",
          "visible": true
         },
         "mode": "markers+lines",
         "name": "Decay Parameters",
         "type": "scatter",
         "x": [
          0,
          1,
          2,
          3,
          4,
          5,
          6,
          7,
          8,
          9,
          10,
          11,
          12,
          13,
          14,
          15,
          16,
          17,
          18,
          19,
          20,
          21,
          22,
          23,
          24,
          25,
          26,
          27,
          28,
          29,
          30,
          31,
          32,
          33,
          34,
          35,
          36,
          37,
          38,
          39,
          40,
          41,
          42,
          43,
          44,
          45,
          46,
          47,
          48,
          49,
          50,
          51,
          52,
          53,
          54,
          55,
          56,
          57,
          58,
          59,
          60,
          61,
          62,
          63,
          64,
          65,
          66,
          67,
          68,
          69,
          70,
          71,
          72,
          73,
          74,
          75,
          76,
          77,
          78,
          79,
          80,
          81,
          82,
          83,
          84,
          85,
          86,
          87,
          88,
          89,
          90,
          91,
          92,
          93,
          94,
          95,
          96,
          97,
          98,
          99,
          100,
          101,
          102,
          103,
          104,
          105,
          106,
          107,
          108,
          109,
          110,
          111,
          112,
          113,
          114,
          115,
          116,
          117,
          118,
          119,
          120,
          121,
          122,
          123,
          124,
          125,
          126,
          127,
          128,
          129,
          130,
          131,
          132,
          133,
          134,
          135,
          136,
          137,
          138,
          139,
          140,
          141,
          142,
          143,
          144,
          145,
          146,
          147,
          148,
          149,
          150,
          151,
          152,
          153,
          154,
          155,
          156,
          157,
          158,
          159,
          160,
          161,
          162,
          163,
          164,
          165,
          166,
          167,
          168,
          169,
          170,
          171,
          172,
          173,
          174,
          175,
          176,
          177,
          178,
          179,
          180,
          181,
          182,
          183,
          184,
          185,
          186,
          187,
          188,
          189,
          190,
          191,
          192,
          193,
          194,
          195,
          196,
          197,
          198,
          199,
          200,
          201,
          202,
          203,
          204,
          205,
          206,
          207,
          208,
          209,
          210,
          211,
          212,
          213,
          214,
          215,
          216,
          217,
          218,
          219,
          220,
          221,
          222,
          223,
          224,
          225,
          226,
          227,
          228,
          229,
          230,
          231,
          232,
          233,
          234,
          235,
          236,
          237,
          238,
          239,
          240,
          241,
          242,
          243,
          244,
          245,
          246,
          247,
          248,
          249,
          250,
          251,
          252,
          253,
          254,
          255,
          256,
          257,
          258,
          259,
          260,
          261,
          262,
          263,
          264,
          265,
          266,
          267,
          268,
          269,
          270,
          271,
          272,
          273,
          274,
          275,
          276,
          277,
          278,
          279,
          280,
          281,
          282,
          283,
          284,
          285,
          286,
          287,
          288,
          289,
          290,
          291,
          292,
          293,
          294,
          295,
          296,
          297,
          298,
          299,
          300
         ],
         "y": [
          0.9740150228173535,
          0.9602312879621792,
          0.20426647621572394,
          0.9704973159400272,
          0.9094116245662718,
          0.6090240708340094,
          0.9746502811356884,
          0.9681396371024494,
          0.9316024797942497,
          0.9724301275974002,
          0.264897262827946,
          0.9912725496967861,
          0.9909433200620896,
          0.9943074948995819,
          0.99086274645639,
          0.9945306622982828,
          0.9885645827160303,
          0.9945096287702634,
          0.94187028520672,
          0.9914729966877655,
          0.9947876273629931,
          0.9867436819797423,
          0.9932670594359586,
          0.9943745058219323,
          0.9877868719477819,
          0.9938136704465366,
          0.9942909541498102,
          0.9890697390722712,
          0.9938539648486472,
          0.9939737201470757,
          0.9921558231498735,
          0.9945325506371814,
          0.9942241355779963,
          0.9931482225021736,
          0.9943020200538366,
          0.9944847521202144,
          0.9945704179955664,
          0.9932580516725062,
          0.9944685188763693,
          0.9947223823717865,
          0.9943927165249699,
          0.9945441209380378,
          0.9925559423670792,
          0.9947708256720317,
          0.9945958865843841,
          0.9945090782642547,
          0.9946438894005497,
          0.9946319594737412,
          0.9944402158506916,
          0.9946254839786459,
          0.9946424915517188,
          0.9943833750854125,
          0.9945430220195681,
          0.9946554205285216,
          0.994766465934719,
          0.9950226179558719,
          0.9945515359013329,
          0.9943792345456625,
          0.9947324490095459,
          0.9945493978107329,
          0.9947486536018937,
          0.994631552332882,
          0.9943500558162184,
          0.9945649376267119,
          0.9946157339482457,
          0.9944344999128953,
          0.9944801983168926,
          0.9948712344081917,
          0.9944040695635872,
          0.9943902507941063,
          0.9945091650443456,
          0.9944913389993953,
          0.9947263852625285,
          0.9947063360862393,
          0.9944414966284508,
          0.9947053449432082,
          0.9947368978464022,
          0.994522972331611,
          0.9944676416662961,
          0.994377255334937,
          0.9945446261871725,
          0.9942607026408984,
          0.9946888161735555,
          0.9944686435239326,
          0.9946246810179813,
          0.9943619504691055,
          0.9944090891384963,
          0.9946631732634941,
          0.9943764020082667,
          0.9945663277154373,
          0.9943661076325567,
          0.9940686396257633,
          0.9942159453692418,
          0.9945426177619163,
          0.9944558230133721,
          0.9943722179969386,
          0.9943663473248525,
          0.9944594558344634,
          0.9944134660605107,
          0.9943970079309333,
          0.9942104125100923,
          0.9943680051313984,
          0.994097467018128,
          0.9943187532705333,
          0.9944664162528597,
          0.9945182296246659,
          0.9942085705214023,
          0.9943440455657852,
          0.9944546110595928,
          0.9944569306556871,
          0.9941118896394562,
          0.9941335347339123,
          0.9943125866593057,
          0.9944401133529717,
          0.9943532291350836,
          0.9941207114638533,
          0.9941110545765854,
          0.994231243342027,
          0.9941755273232814,
          0.9942036254304828,
          0.9944933782579939,
          0.9943506690912726,
          0.9942184888949747,
          0.9942064931154795,
          0.9943963338302804,
          0.9942154103409395,
          0.9943802988344992,
          0.9944339543755053,
          0.9946185728263622,
          0.9941971221958004,
          0.9941584728623126,
          0.9941231232466594,
          0.9940837607475204,
          0.9941881629424189,
          0.9938681442746579,
          0.99413256981345,
          0.9941096251746893,
          0.9943598816027459,
          0.9942322729123109,
          0.9941268150449644,
          0.9940765097949024,
          0.9940088327767168,
          0.9940464227533345,
          0.994151168276608,
          0.9940351997732411,
          0.994257011551259,
          0.9942519061437197,
          0.9941850172315463,
          0.9942050794861043,
          0.9942315674780087,
          0.9942600342979956,
          0.9940475446730296,
          0.9940638513250672,
          0.9939113150102971,
          0.9943926762277973,
          0.9944000332609453,
          0.9941074360551738,
          0.9942469945773129,
          0.9941517100893819,
          0.9939520652936765,
          0.9941665574688907,
          0.9943910774288537,
          0.9942995488139135,
          0.9941919028164421,
          0.9939656406083461,
          0.9939460749365645,
          0.9940908761418613,
          0.9942236155567883,
          0.994244168443569,
          0.9943336339353241,
          0.9937343131745172,
          0.9940396042004618,
          0.9942110845284522,
          0.9941750114073724,
          0.9938621872768674,
          0.9941501839565291,
          0.9940976395653581,
          0.9940811928929169,
          0.9943171633650636,
          0.9939455680300702,
          0.9941566187271155,
          0.9941263630324552,
          0.9942663824084561,
          0.9938667124252549,
          0.9942073280581484,
          0.9941438099110983,
          0.9941892751272067,
          0.9941379922720474,
          0.9943483041241994,
          0.9941131864998874,
          0.9941678124512097,
          0.9944388670656049,
          0.9940643910766658,
          0.9940044676797055,
          0.9941346473507137,
          0.994042368298461,
          0.993937245828614,
          0.9939878936068801,
          0.9941741228449186,
          0.9940654311722721,
          0.9941914382336653,
          0.9941121585184346,
          0.9941262621310102,
          0.9941681284432536,
          0.9938165943785436,
          0.9941574771116978,
          0.9940052961809522,
          0.9942942621354208,
          0.9941286254289097,
          0.994069121988303,
          0.9943015720935984,
          0.9940392440900612,
          0.9942783774714005,
          0.9943375467384351,
          0.9940503819930127,
          0.9942684023826215,
          0.9943036397107182,
          0.9939863923728262,
          0.9941019752663179,
          0.9938366335954842,
          0.9939402776222845,
          0.9939150091279387,
          0.9942937507642875,
          0.9939594105760419,
          0.9938402541754869,
          0.9941660241583642,
          0.9942751016347627,
          0.9940775767015138,
          0.9942263599931093,
          0.9941408528930817,
          0.9941339776369402,
          0.9940647061447919,
          0.9939927879927486,
          0.9940689910324485,
          0.9942319182394525,
          0.9941663414880393,
          0.9942877419885177,
          0.9941587434300819,
          0.9938728614192965,
          0.994215228019015,
          0.9943880780235245,
          0.9938858500399242,
          0.9942147389013781,
          0.9942597251284839,
          0.9941287659810146,
          0.9938639495962437,
          0.9939229315277283,
          0.9941773302711621,
          0.994400330911951,
          0.9943104598729569,
          0.9940352930544762,
          0.9941586383497142,
          0.9942007788266888,
          0.994063957080379,
          0.9940243564054548,
          0.9944242239427694,
          0.9939427251599101,
          0.9941863103472138,
          0.9939848580158661,
          0.9940847153340339,
          0.9941181821681767,
          0.9941262502270999,
          0.9941409118921067,
          0.9942973018635898,
          0.9942344323153848,
          0.9940388649586365,
          0.9943624258627074,
          0.994282140461794,
          0.993879514802276,
          0.9942786915085644,
          0.9939408417166422,
          0.9941916968723797,
          0.9942985076330423,
          0.9939440692188996,
          0.9940533335807222,
          0.993978458222542,
          0.9943380311155566,
          0.9941658027773858,
          0.9943292957804474,
          0.9942556434776144,
          0.9942394863081282,
          0.9943505112539146,
          0.9941097591160261,
          0.9939569167059248,
          0.9941869999675053,
          0.9936652858997501,
          0.993998817672399,
          0.993941325256418,
          0.9939712023769811,
          0.9940300833359351,
          0.9939386574304157,
          0.993940627950192,
          0.9937422817569069,
          0.9938754206337389,
          0.9939542504216201,
          0.9940135912355316,
          0.9940201446773758,
          0.9939841477749448,
          0.9940536992495468,
          0.9940784520418517,
          0.9940787370525603
         ]
        }
       ],
       "layout": {
        "hovermode": "closest",
        "template": {
         "data": {
          "bar": [
           {
            "error_x": {
             "color": "#2a3f5f"
            },
            "error_y": {
             "color": "#2a3f5f"
            },
            "marker": {
             "line": {
              "color": "#E5ECF6",
              "width": 0.5
             },
             "pattern": {
              "fillmode": "overlay",
              "size": 10,
              "solidity": 0.2
             }
            },
            "type": "bar"
           }
          ],
          "barpolar": [
           {
            "marker": {
             "line": {
              "color": "#E5ECF6",
              "width": 0.5
             },
             "pattern": {
              "fillmode": "overlay",
              "size": 10,
              "solidity": 0.2
             }
            },
            "type": "barpolar"
           }
          ],
          "carpet": [
           {
            "aaxis": {
             "endlinecolor": "#2a3f5f",
             "gridcolor": "white",
             "linecolor": "white",
             "minorgridcolor": "white",
             "startlinecolor": "#2a3f5f"
            },
            "baxis": {
             "endlinecolor": "#2a3f5f",
             "gridcolor": "white",
             "linecolor": "white",
             "minorgridcolor": "white",
             "startlinecolor": "#2a3f5f"
            },
            "type": "carpet"
           }
          ],
          "choropleth": [
           {
            "colorbar": {
             "outlinewidth": 0,
             "ticks": ""
            },
            "type": "choropleth"
           }
          ],
          "contour": [
           {
            "colorbar": {
             "outlinewidth": 0,
             "ticks": ""
            },
            "colorscale": [
             [
              0,
              "#0d0887"
             ],
             [
              0.1111111111111111,
              "#46039f"
             ],
             [
              0.2222222222222222,
              "#7201a8"
             ],
             [
              0.3333333333333333,
              "#9c179e"
             ],
             [
              0.4444444444444444,
              "#bd3786"
             ],
             [
              0.5555555555555556,
              "#d8576b"
             ],
             [
              0.6666666666666666,
              "#ed7953"
             ],
             [
              0.7777777777777778,
              "#fb9f3a"
             ],
             [
              0.8888888888888888,
              "#fdca26"
             ],
             [
              1,
              "#f0f921"
             ]
            ],
            "type": "contour"
           }
          ],
          "contourcarpet": [
           {
            "colorbar": {
             "outlinewidth": 0,
             "ticks": ""
            },
            "type": "contourcarpet"
           }
          ],
          "heatmap": [
           {
            "colorbar": {
             "outlinewidth": 0,
             "ticks": ""
            },
            "colorscale": [
             [
              0,
              "#0d0887"
             ],
             [
              0.1111111111111111,
              "#46039f"
             ],
             [
              0.2222222222222222,
              "#7201a8"
             ],
             [
              0.3333333333333333,
              "#9c179e"
             ],
             [
              0.4444444444444444,
              "#bd3786"
             ],
             [
              0.5555555555555556,
              "#d8576b"
             ],
             [
              0.6666666666666666,
              "#ed7953"
             ],
             [
              0.7777777777777778,
              "#fb9f3a"
             ],
             [
              0.8888888888888888,
              "#fdca26"
             ],
             [
              1,
              "#f0f921"
             ]
            ],
            "type": "heatmap"
           }
          ],
          "heatmapgl": [
           {
            "colorbar": {
             "outlinewidth": 0,
             "ticks": ""
            },
            "colorscale": [
             [
              0,
              "#0d0887"
             ],
             [
              0.1111111111111111,
              "#46039f"
             ],
             [
              0.2222222222222222,
              "#7201a8"
             ],
             [
              0.3333333333333333,
              "#9c179e"
             ],
             [
              0.4444444444444444,
              "#bd3786"
             ],
             [
              0.5555555555555556,
              "#d8576b"
             ],
             [
              0.6666666666666666,
              "#ed7953"
             ],
             [
              0.7777777777777778,
              "#fb9f3a"
             ],
             [
              0.8888888888888888,
              "#fdca26"
             ],
             [
              1,
              "#f0f921"
             ]
            ],
            "type": "heatmapgl"
           }
          ],
          "histogram": [
           {
            "marker": {
             "pattern": {
              "fillmode": "overlay",
              "size": 10,
              "solidity": 0.2
             }
            },
            "type": "histogram"
           }
          ],
          "histogram2d": [
           {
            "colorbar": {
             "outlinewidth": 0,
             "ticks": ""
            },
            "colorscale": [
             [
              0,
              "#0d0887"
             ],
             [
              0.1111111111111111,
              "#46039f"
             ],
             [
              0.2222222222222222,
              "#7201a8"
             ],
             [
              0.3333333333333333,
              "#9c179e"
             ],
             [
              0.4444444444444444,
              "#bd3786"
             ],
             [
              0.5555555555555556,
              "#d8576b"
             ],
             [
              0.6666666666666666,
              "#ed7953"
             ],
             [
              0.7777777777777778,
              "#fb9f3a"
             ],
             [
              0.8888888888888888,
              "#fdca26"
             ],
             [
              1,
              "#f0f921"
             ]
            ],
            "type": "histogram2d"
           }
          ],
          "histogram2dcontour": [
           {
            "colorbar": {
             "outlinewidth": 0,
             "ticks": ""
            },
            "colorscale": [
             [
              0,
              "#0d0887"
             ],
             [
              0.1111111111111111,
              "#46039f"
             ],
             [
              0.2222222222222222,
              "#7201a8"
             ],
             [
              0.3333333333333333,
              "#9c179e"
             ],
             [
              0.4444444444444444,
              "#bd3786"
             ],
             [
              0.5555555555555556,
              "#d8576b"
             ],
             [
              0.6666666666666666,
              "#ed7953"
             ],
             [
              0.7777777777777778,
              "#fb9f3a"
             ],
             [
              0.8888888888888888,
              "#fdca26"
             ],
             [
              1,
              "#f0f921"
             ]
            ],
            "type": "histogram2dcontour"
           }
          ],
          "mesh3d": [
           {
            "colorbar": {
             "outlinewidth": 0,
             "ticks": ""
            },
            "type": "mesh3d"
           }
          ],
          "parcoords": [
           {
            "line": {
             "colorbar": {
              "outlinewidth": 0,
              "ticks": ""
             }
            },
            "type": "parcoords"
           }
          ],
          "pie": [
           {
            "automargin": true,
            "type": "pie"
           }
          ],
          "scatter": [
           {
            "fillpattern": {
             "fillmode": "overlay",
             "size": 10,
             "solidity": 0.2
            },
            "type": "scatter"
           }
          ],
          "scatter3d": [
           {
            "line": {
             "colorbar": {
              "outlinewidth": 0,
              "ticks": ""
             }
            },
            "marker": {
             "colorbar": {
              "outlinewidth": 0,
              "ticks": ""
             }
            },
            "type": "scatter3d"
           }
          ],
          "scattercarpet": [
           {
            "marker": {
             "colorbar": {
              "outlinewidth": 0,
              "ticks": ""
             }
            },
            "type": "scattercarpet"
           }
          ],
          "scattergeo": [
           {
            "marker": {
             "colorbar": {
              "outlinewidth": 0,
              "ticks": ""
             }
            },
            "type": "scattergeo"
           }
          ],
          "scattergl": [
           {
            "marker": {
             "colorbar": {
              "outlinewidth": 0,
              "ticks": ""
             }
            },
            "type": "scattergl"
           }
          ],
          "scattermapbox": [
           {
            "marker": {
             "colorbar": {
              "outlinewidth": 0,
              "ticks": ""
             }
            },
            "type": "scattermapbox"
           }
          ],
          "scatterpolar": [
           {
            "marker": {
             "colorbar": {
              "outlinewidth": 0,
              "ticks": ""
             }
            },
            "type": "scatterpolar"
           }
          ],
          "scatterpolargl": [
           {
            "marker": {
             "colorbar": {
              "outlinewidth": 0,
              "ticks": ""
             }
            },
            "type": "scatterpolargl"
           }
          ],
          "scatterternary": [
           {
            "marker": {
             "colorbar": {
              "outlinewidth": 0,
              "ticks": ""
             }
            },
            "type": "scatterternary"
           }
          ],
          "surface": [
           {
            "colorbar": {
             "outlinewidth": 0,
             "ticks": ""
            },
            "colorscale": [
             [
              0,
              "#0d0887"
             ],
             [
              0.1111111111111111,
              "#46039f"
             ],
             [
              0.2222222222222222,
              "#7201a8"
             ],
             [
              0.3333333333333333,
              "#9c179e"
             ],
             [
              0.4444444444444444,
              "#bd3786"
             ],
             [
              0.5555555555555556,
              "#d8576b"
             ],
             [
              0.6666666666666666,
              "#ed7953"
             ],
             [
              0.7777777777777778,
              "#fb9f3a"
             ],
             [
              0.8888888888888888,
              "#fdca26"
             ],
             [
              1,
              "#f0f921"
             ]
            ],
            "type": "surface"
           }
          ],
          "table": [
           {
            "cells": {
             "fill": {
              "color": "#EBF0F8"
             },
             "line": {
              "color": "white"
             }
            },
            "header": {
             "fill": {
              "color": "#C8D4E3"
             },
             "line": {
              "color": "white"
             }
            },
            "type": "table"
           }
          ]
         },
         "layout": {
          "annotationdefaults": {
           "arrowcolor": "#2a3f5f",
           "arrowhead": 0,
           "arrowwidth": 1
          },
          "autotypenumbers": "strict",
          "coloraxis": {
           "colorbar": {
            "outlinewidth": 0,
            "ticks": ""
           }
          },
          "colorscale": {
           "diverging": [
            [
             0,
             "#8e0152"
            ],
            [
             0.1,
             "#c51b7d"
            ],
            [
             0.2,
             "#de77ae"
            ],
            [
             0.3,
             "#f1b6da"
            ],
            [
             0.4,
             "#fde0ef"
            ],
            [
             0.5,
             "#f7f7f7"
            ],
            [
             0.6,
             "#e6f5d0"
            ],
            [
             0.7,
             "#b8e186"
            ],
            [
             0.8,
             "#7fbc41"
            ],
            [
             0.9,
             "#4d9221"
            ],
            [
             1,
             "#276419"
            ]
           ],
           "sequential": [
            [
             0,
             "#0d0887"
            ],
            [
             0.1111111111111111,
             "#46039f"
            ],
            [
             0.2222222222222222,
             "#7201a8"
            ],
            [
             0.3333333333333333,
             "#9c179e"
            ],
            [
             0.4444444444444444,
             "#bd3786"
            ],
            [
             0.5555555555555556,
             "#d8576b"
            ],
            [
             0.6666666666666666,
             "#ed7953"
            ],
            [
             0.7777777777777778,
             "#fb9f3a"
            ],
            [
             0.8888888888888888,
             "#fdca26"
            ],
            [
             1,
             "#f0f921"
            ]
           ],
           "sequentialminus": [
            [
             0,
             "#0d0887"
            ],
            [
             0.1111111111111111,
             "#46039f"
            ],
            [
             0.2222222222222222,
             "#7201a8"
            ],
            [
             0.3333333333333333,
             "#9c179e"
            ],
            [
             0.4444444444444444,
             "#bd3786"
            ],
            [
             0.5555555555555556,
             "#d8576b"
            ],
            [
             0.6666666666666666,
             "#ed7953"
            ],
            [
             0.7777777777777778,
             "#fb9f3a"
            ],
            [
             0.8888888888888888,
             "#fdca26"
            ],
            [
             1,
             "#f0f921"
            ]
           ]
          },
          "colorway": [
           "#636efa",
           "#EF553B",
           "#00cc96",
           "#ab63fa",
           "#FFA15A",
           "#19d3f3",
           "#FF6692",
           "#B6E880",
           "#FF97FF",
           "#FECB52"
          ],
          "font": {
           "color": "#2a3f5f"
          },
          "geo": {
           "bgcolor": "white",
           "lakecolor": "white",
           "landcolor": "#E5ECF6",
           "showlakes": true,
           "showland": true,
           "subunitcolor": "white"
          },
          "hoverlabel": {
           "align": "left"
          },
          "hovermode": "closest",
          "mapbox": {
           "style": "light"
          },
          "paper_bgcolor": "white",
          "plot_bgcolor": "#E5ECF6",
          "polar": {
           "angularaxis": {
            "gridcolor": "white",
            "linecolor": "white",
            "ticks": ""
           },
           "bgcolor": "#E5ECF6",
           "radialaxis": {
            "gridcolor": "white",
            "linecolor": "white",
            "ticks": ""
           }
          },
          "scene": {
           "xaxis": {
            "backgroundcolor": "#E5ECF6",
            "gridcolor": "white",
            "gridwidth": 2,
            "linecolor": "white",
            "showbackground": true,
            "ticks": "",
            "zerolinecolor": "white"
           },
           "yaxis": {
            "backgroundcolor": "#E5ECF6",
            "gridcolor": "white",
            "gridwidth": 2,
            "linecolor": "white",
            "showbackground": true,
            "ticks": "",
            "zerolinecolor": "white"
           },
           "zaxis": {
            "backgroundcolor": "#E5ECF6",
            "gridcolor": "white",
            "gridwidth": 2,
            "linecolor": "white",
            "showbackground": true,
            "ticks": "",
            "zerolinecolor": "white"
           }
          },
          "shapedefaults": {
           "line": {
            "color": "#2a3f5f"
           }
          },
          "ternary": {
           "aaxis": {
            "gridcolor": "white",
            "linecolor": "white",
            "ticks": ""
           },
           "baxis": {
            "gridcolor": "white",
            "linecolor": "white",
            "ticks": ""
           },
           "bgcolor": "#E5ECF6",
           "caxis": {
            "gridcolor": "white",
            "linecolor": "white",
            "ticks": ""
           }
          },
          "title": {
           "x": 0.05
          },
          "xaxis": {
           "automargin": true,
           "gridcolor": "white",
           "linecolor": "white",
           "ticks": "",
           "title": {
            "standoff": 15
           },
           "zerolinecolor": "white",
           "zerolinewidth": 2
          },
          "yaxis": {
           "automargin": true,
           "gridcolor": "white",
           "linecolor": "white",
           "ticks": "",
           "title": {
            "standoff": 15
           },
           "zerolinecolor": "white",
           "zerolinewidth": 2
          }
         }
        },
        "title": {
         "text": "Fidelity optimization"
        },
        "xaxis": {
         "title": {
          "text": "Optimization step"
         }
        },
        "yaxis": {
         "title": {
          "text": "Fidelity"
         }
        }
       }
      }
     },
     "metadata": {},
     "output_type": "display_data"
    }
   ],
   "source": [
    "fig = go.Figure()\n",
    "\n",
    "fig.add_trace(go.Scatter(\n",
    "    x=np.arange(len(all_decay_params)),  \n",
    "    y=all_decay_params,  \n",
    "    error_y=dict(\n",
    "        type='data',  # Use 'data' for error values provided directly\n",
    "        array=all_decay_errs,  # Error array\n",
    "        visible=True  # Show error bars\n",
    "    ),\n",
    "    mode='markers+lines',  \n",
    "    name='Decay Parameters'\n",
    "))\n",
    "\n",
    "fig.update_layout(\n",
    "    title='Fidelity optimization',\n",
    "    xaxis_title='Optimization step',\n",
    "    yaxis_title='Fidelity',\n",
    "    hovermode='closest',  \n",
    ")\n",
    "\n",
    "fig.show()\n",
    "fig.write_html(\"optimization_no_beta.html\")\n",
    "fig.write_html(\"optimization_no_beta.ong\")"
   ]
  },
  {
   "cell_type": "code",
   "execution_count": 16,
   "metadata": {},
   "outputs": [
    {
     "data": {
      "image/png": "[encoded data removed]",
      "text/plain": [
       "<Figure size 500x375 with 1 Axes>"
      ]
     },
     "metadata": {},
     "output_type": "display_data"
    }
   ],
   "source": [
    "x = np.arange(1, len(pulse_fidelities) + 1)\n",
    "\n",
    "fig, ax1 = plt.subplots(1, figsize=(WIDTH * 10 , WIDTH * 10 * 6/8))\n",
    "ax1.errorbar(x, pulse_fidelities, yerr=pulse_fidelities_err, fmt='o', linestyle='none', markersize=4, color=\"black\", \n",
    "             markerfacecolor=RED, ecolor=\"black\", markeredgewidth=0.7, elinewidth=0.7, alpha=1, label=r\"qubit 1\", capsize=3)\n",
    "ax1.plot(x, pulse_fidelities, '-', color='black', linewidth=0.7)\n",
    "\n",
    "# Set the x-axis limit to zoom in on the range between 200 and 250\n",
    "ax1.set_xlim(0, 50)\n",
    "ax1.set_ylim(0.8, 1.2)\n",
    "\n",
    "# Label the axes\n",
    "ax1.set_xlabel('# optimization steps', fontsize=12)\n",
    "# ax1.set_ylabel(r'$\\pi/2$ fidelity', fontsize=12)\n",
    "\n",
    "# Save the figure\n",
    "plt.savefig(f'plot_zoomed', bbox_inches=\"tight\", dpi=600)"
   ]
  },
  {
   "cell_type": "code",
   "execution_count": null,
   "metadata": {},
   "outputs": [],
   "source": []
  }
 ],
 "metadata": {
  "kernelspec": {
   "display_name": "Python 3",
   "language": "python",
   "name": "python3"
  },
  "language_info": {
   "codemirror_mode": {
    "name": "ipython",
    "version": 3
   },
   "file_extension": ".py",
   "mimetype": "text/x-python",
   "name": "python",
   "nbconvert_exporter": "python",
   "pygments_lexer": "ipython3",
   "version": "3.10.12"
  }
 },
 "nbformat": 4,
 "nbformat_minor": 2
}
